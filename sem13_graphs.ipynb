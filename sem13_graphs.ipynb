{
 "cells": [
  {
   "cell_type": "markdown",
   "id": "d2230091",
   "metadata": {},
   "source": [
    " "
   ]
  },
  {
   "cell_type": "markdown",
   "id": "8e8cffcc",
   "metadata": {},
   "source": [
    " ## Обухов Илья ПИ225 семинар 13    \n",
    " ### от 11.05.2023"
   ]
  },
  {
   "cell_type": "markdown",
   "id": "b03fdba5",
   "metadata": {},
   "source": [
    "1) Реализовать алгоритм обхода графа в ширину.\n",
    "\n",
    "1. Поместить начальный узел, в пустую очередь.\n",
    "2. Извлечь из начала очереди узел и пометить его как\n",
    "развёрнутый.\n",
    "○ Если узел является целевым узлом, то\n",
    "завершить поиск с результатом «успех».\n",
    "○ В противном случае, в конец очереди\n",
    "добавляются все преемники узла, которые\n",
    "ещё не развёрнуты и не находятся в очереди.\n",
    "3. Если очередь пуста, то все узлы графа были\n",
    "просмотрены, следовательно, целевой узел\n",
    "недостижим из начального; завершить поиск с\n",
    "результатом «неудача».\n",
    "4. Вернуться к п. 2."
   ]
  },
  {
   "cell_type": "code",
   "execution_count": null,
   "id": "c9ac7fae",
   "metadata": {},
   "outputs": [],
   "source": [
    "graph = {0: [2, 3, 4, 5, 6], \n",
    "         1: [3, 5],\n",
    "         2: [4],\n",
    "         3: [5],\n",
    "         4: [6],\n",
    "         5: [3, 7, 8],\n",
    "         6: [7, 8], \n",
    "         7: [6, 8], \n",
    "         8: [6, 7]\n",
    "        }"
   ]
  },
  {
   "cell_type": "code",
   "execution_count": 47,
   "id": "898e2929",
   "metadata": {},
   "outputs": [
    {
     "data": {
      "text/plain": [
       "[0, 2, 3, 4, 5, 6, 7, 8]"
      ]
     },
     "execution_count": 47,
     "metadata": {},
     "output_type": "execute_result"
    }
   ],
   "source": [
    "def graph_BFS(start, graph):\n",
    "    visited_nodes = []\n",
    "    queue = [start]\n",
    "    while queue != []:\n",
    "        node = queue.pop(0)\n",
    "        if node not in visited_nodes:\n",
    "            visited_nodes.append(node)\n",
    "            for close_node in graph[node]:\n",
    "                if close_node not in visited_nodes:\n",
    "                    queue.append(close_node)\n",
    "    return visited_nodes\n",
    "graph_BFS(0, graph)"
   ]
  },
  {
   "cell_type": "markdown",
   "id": "cf303bda",
   "metadata": {},
   "source": [
    "2) Реализовать алгоритмы обхода по структуре класса:\n",
    "\n",
    "■ прямой (Pre-Order),\n",
    "■ обратный (Post-Order)\n",
    "■ центрированный (In-Order)\n",
    "■ порядок уровней (level-order traversal)"
   ]
  },
  {
   "cell_type": "code",
   "execution_count": 14,
   "id": "a9e1c9b3",
   "metadata": {},
   "outputs": [],
   "source": [
    "graph = {0: [1, 2], \n",
    "         1: [3, 4],\n",
    "         2: [5],\n",
    "         3: [],\n",
    "         4: [],\n",
    "         5: []\n",
    "        }"
   ]
  },
  {
   "cell_type": "code",
   "execution_count": 65,
   "id": "3b18387a",
   "metadata": {},
   "outputs": [
    {
     "data": {
      "text/plain": [
       "[0, 1, 3, 4, 2, 5]"
      ]
     },
     "execution_count": 65,
     "metadata": {},
     "output_type": "execute_result"
    }
   ],
   "source": [
    "def pre_Order(graph):\n",
    "    visited_nodes = []\n",
    "    queue = [0]\n",
    "    while queue != []:\n",
    "        node = queue.pop(0)\n",
    "        if node not in visited_nodes:\n",
    "            visited_nodes.append(node)\n",
    "            for close_node in reversed(graph[node]):\n",
    "                if close_node not in visited_nodes:\n",
    "                    queue.insert(0, close_node)\n",
    "    return visited_nodes\n",
    "\n",
    "pre_Order(graph)"
   ]
  },
  {
   "cell_type": "code",
   "execution_count": 102,
   "id": "4e5dc8d3",
   "metadata": {},
   "outputs": [
    {
     "data": {
      "text/plain": [
       "[3, 4, 1, 5, 2, 0]"
      ]
     },
     "execution_count": 102,
     "metadata": {},
     "output_type": "execute_result"
    }
   ],
   "source": [
    "def post_Order(graph):\n",
    "    visited_nodes = []\n",
    "    queue = [0]\n",
    "    ended_nods = {num: False for num in range(len(graph))}\n",
    "    while queue != []:\n",
    "        node = queue[0]\n",
    "        for nodes in graph.keys():\n",
    "            c = 0\n",
    "            for els in graph[nodes]:\n",
    "                if els in visited_nodes:\n",
    "                    c += 1\n",
    "            if c == len(graph[nodes]):\n",
    "                ended_nods[nodes] = True\n",
    "        if node not in visited_nodes and graph[node] == [] or ended_nods[node]:\n",
    "            visited_nodes.append(node)\n",
    "            queue.remove(node)\n",
    "        for close_node in reversed(graph[node]):\n",
    "            if close_node not in visited_nodes:\n",
    "                queue.insert(0, close_node)\n",
    "    return visited_nodes\n",
    "\n",
    "post_Order(graph)"
   ]
  },
  {
   "cell_type": "code",
   "execution_count": null,
   "id": "c2e66343",
   "metadata": {},
   "outputs": [],
   "source": [
    "graph = {0: [1, 2], \n",
    "         1: [3, 4],\n",
    "         2: [5],\n",
    "         3: [],\n",
    "         4: [],\n",
    "         5: []\n",
    "        }"
   ]
  },
  {
   "cell_type": "code",
   "execution_count": null,
   "id": "5ae2a6df",
   "metadata": {},
   "outputs": [],
   "source": [
    "def in_Order(graph):\n",
    "    visited_nodes = []\n",
    "    queue = [0]\n",
    "    while queue:\n",
    "        node = queue[0]\n",
    "        for el in graph[node]:\n",
    "            if el not in visited_nodes:\n",
    "                queue.insert(0, el)\n",
    "\n",
    "in_Order(graph)"
   ]
  },
  {
   "cell_type": "code",
   "execution_count": 176,
   "id": "af94db43",
   "metadata": {},
   "outputs": [
    {
     "data": {
      "text/plain": [
       "[0, 1, 2, 3, 4, 5]"
      ]
     },
     "execution_count": 176,
     "metadata": {},
     "output_type": "execute_result"
    }
   ],
   "source": [
    "def level_order_traversal(graph):\n",
    "    visited_nodes = [0]\n",
    "    index = 0\n",
    "    while index != len(visited_nodes):\n",
    "        for el in range(len(graph[visited_nodes[index]])):\n",
    "            visited_nodes.append(graph[visited_nodes[index]][el])\n",
    "        index += 1\n",
    "    return visited_nodes\n",
    "\n",
    "level_order_traversal(graph)"
   ]
  },
  {
   "cell_type": "markdown",
   "id": "d2e41e31",
   "metadata": {},
   "source": [
    "2) Реализовать алгоритм обхода графа в ширину."
   ]
  },
  {
   "cell_type": "code",
   "execution_count": 12,
   "id": "83b337a0",
   "metadata": {},
   "outputs": [],
   "source": [
    "graph = {0: [1, 2, 3], \n",
    "         1: [0, 3],\n",
    "         2: [0, 3, 4, 5],\n",
    "         3: [0, 1, 2, 5],\n",
    "         4: [2],\n",
    "         5: [2, 3]\n",
    "        }"
   ]
  },
  {
   "cell_type": "code",
   "execution_count": 38,
   "id": "ffda8edc",
   "metadata": {},
   "outputs": [
    {
     "data": {
      "text/plain": [
       "[0, 1, 2, 3, 4, 5]"
      ]
     },
     "execution_count": 38,
     "metadata": {},
     "output_type": "execute_result"
    }
   ],
   "source": [
    "def graph_BFS(start, graph):\n",
    "    visited_nodes = []\n",
    "    queue = [start]\n",
    "    while queue != []:\n",
    "        node = queue.pop(0)\n",
    "        if node not in visited_nodes:\n",
    "            visited_nodes.append(node)\n",
    "            for close_node in graph[node]:\n",
    "                if close_node not in visited_nodes:\n",
    "                    queue.append(close_node)\n",
    "    return visited_nodes\n",
    "graph_BFS(0, graph)"
   ]
  },
  {
   "cell_type": "markdown",
   "id": "c94982f1",
   "metadata": {},
   "source": [
    "2) Реализовать алгоритм обхода графа в глубину.\n",
    "\n",
    "1. Поместите любую вершину графа на вершину\n",
    "стека.\n",
    "2. Возьмите верхний элемент стека и добавьте его в\n",
    "список “Пройденных”.\n",
    "3. Создайте список смежных вершин для этой\n",
    "вершины. Добавьте те вершины, которых нет в\n",
    "списке “Пройденных”, в верх стека.\n",
    "4. Необходимо повторять шаги 2 и 3, пока стек не\n",
    "станет пустым."
   ]
  },
  {
   "cell_type": "code",
   "execution_count": 13,
   "id": "c5cdeb35",
   "metadata": {},
   "outputs": [
    {
     "data": {
      "text/plain": [
       "[5, 2, 3, 0, 1, 4]"
      ]
     },
     "execution_count": 13,
     "metadata": {},
     "output_type": "execute_result"
    }
   ],
   "source": [
    "def graph_DFS(start, graph):\n",
    "    visited_nodes = []\n",
    "    queue = [start]\n",
    "    while queue != []:\n",
    "        node = queue.pop(0)\n",
    "        if node not in visited_nodes:\n",
    "            visited_nodes.append(node)\n",
    "            for close_node in graph[node]:\n",
    "                if close_node not in visited_nodes and close_node not in queue:\n",
    "                    queue.append(close_node)\n",
    "                elif close_node in queue:\n",
    "                    queue.remove(close_node)\n",
    "                    queue.insert(0, close_node)\n",
    "    \n",
    "    return visited_nodes\n",
    "graph_DFS(5, graph)"
   ]
  },
  {
   "cell_type": "markdown",
   "id": "84f3c326",
   "metadata": {},
   "source": [
    "3*) Реализовать алгоритм поиска кратчайшего пути графа\n",
    "\n",
    "(алгоритм Дейкстры)\n",
    "\n",
    "Количество узлов графа не менее 10\n",
    "Каждая ветка графа имеет “вес”"
   ]
  },
  {
   "cell_type": "code",
   "execution_count": 6,
   "id": "26d6ac12",
   "metadata": {},
   "outputs": [],
   "source": [
    "graphhh = {'A': {'B': 10, 'C': 11}, \n",
    "           'B': {'A': 10, 'D': 8, 'E': 23, 'G': 12},\n",
    "           'C': {'A': 11, 'D': 4, 'F': 6, 'G': 18},\n",
    "           'D': {'B': 8, 'C': 4, 'H': 13},\n",
    "           'E': {'B': 23, 'G': 9, 'I': 15},\n",
    "           'F': {'C': 6, 'H': 10},\n",
    "           'G': {'A': 12, 'C': 18, 'E': 9, 'H': 8, 'I': 13},\n",
    "           'H': {'D': 13, 'F': 10, 'G': 8, 'I': 17},\n",
    "           'I': {'E': 15, 'G': 13, 'H': 17}\n",
    "         }"
   ]
  },
  {
   "cell_type": "code",
   "execution_count": 9,
   "id": "040da31b",
   "metadata": {},
   "outputs": [],
   "source": [
    "def find_lowest_cost_node(values, processed):\n",
    "    lowest_value = float('inf') \n",
    "    lowest_value_node = None\n",
    "    for node in values: \n",
    "        value = values[node]\n",
    "        if value < lowest_value and node not in processed: \n",
    "            lowest_value = cost\n",
    "            lowest_value_node = node \n",
    "    return lowest_value_node"
   ]
  },
  {
   "cell_type": "code",
   "execution_count": 10,
   "id": "e9a18f49",
   "metadata": {},
   "outputs": [],
   "source": [
    "def dijkstra(graph, start, end):\n",
    "    costs = {node: float('inf') for node in graph}\n",
    "    costs[start] = 0    \n",
    "    parents = {node: None for node in graph}\n",
    "    processed = []\n",
    "    node = find_lowest_cost_node(costs, processed)\n",
    "    while node is not None:\n",
    "        cost = costs[node]\n",
    "        neighbors = graph[node]\n",
    "        for n in neighbors.keys():\n",
    "            new_cost = cost + neighbors[n]\n",
    "            if new_cost < costs[n]: \n",
    "                costs[n] = new_cost  \n",
    "                parents[n] = node  \n",
    "        processed.append(node)   \n",
    "        node = find_lowest_cost_node(costs, processed) \n",
    "    path = [end]\n",
    "    parent = parents[end]\n",
    "    while parent is not None:\n",
    "        path.append(parent)\n",
    "        parent = parents[parent]\n",
    "    path.reverse()\n",
    "    return path"
   ]
  },
  {
   "cell_type": "code",
   "execution_count": 8,
   "id": "6a264243",
   "metadata": {},
   "outputs": [
    {
     "name": "stdout",
     "output_type": "stream",
     "text": [
      "['A', 'B', 'G']\n"
     ]
    }
   ],
   "source": [
    "print(dijkstra(graphhh, 'A', 'G'))"
   ]
  },
  {
   "cell_type": "markdown",
   "id": "3348f7e0",
   "metadata": {},
   "source": [
    "20) Создать класс BinaryTreeLL реализующий API для\n",
    "хранения двоичных деревьев в виде списка списков.\n",
    "* BinaryTreeLL(tree) - создание нового экземпляра бинарного\n",
    "дерева. tree - или значение root_val или список содержащий\n",
    "бинарное дерево или BinaryTreeLL.\n",
    "* get_left_child() - возвращает бинарное дерево связанное с\n",
    "левым дочерним узлом рассматриваемого узла.\n",
    "* get_right_child() - возвращает бинарное дерево связанное с\n",
    "правым дочерним узлом рассматриваемого узла.\n",
    "* get_val() - возвращает объект, хранящийся в данном узле.\n",
    "* set_val(val) - сохраняет объект val в данный узел.\n",
    "* insert_left_child(ll_val) - вставляет новое бинарное дерево в\n",
    "левый дочерний узел. ll_val - это или представление бинарного\n",
    "дерева в виде списка списков или BinaryTreeLL.\n",
    "* insert_right_child(ll_val) - вставляет новое бинарное дерево в\n",
    "правый дочерний узел. ll_val - это или представление бинарного\n",
    "дерева в виде списка списков или BinaryTreeLL.\n",
    "* get_tree_list() - возвращает представление дерева в виде\n",
    "списка."
   ]
  },
  {
   "cell_type": "code",
   "execution_count": 27,
   "id": "965acf08",
   "metadata": {},
   "outputs": [],
   "source": [
    "class BinaryTreeLL:\n",
    "    def init(self, tree=None):\n",
    "        if tree is None:\n",
    "            self.tree = tree\n",
    "        elif isinstance(tree, list):\n",
    "            self.tree = tree\n",
    "        else:\n",
    "            self.tree = tree, [ ]\n",
    "\n",
    "    def getleftchild(self):\n",
    "        return BinaryTreeLL(self.tree1)\n",
    "\n",
    "    def getrightchild(self):\n",
    "        return BinaryTreeLL(self.tree2)\n",
    "\n",
    "    def getval(self):\n",
    "        return self.tree[0]\n",
    "\n",
    "    def setval(self, val):\n",
    "        self.tree0 = val\n",
    "\n",
    "    def insertleftchild(self, llval):\n",
    "        if isinstance(llval, list):\n",
    "            self.tree1 = llval\n",
    "        else:\n",
    "            self.tree[1] = llval.gettreelist()\n",
    "\n",
    "    def insertrightchild(self, llval):\n",
    "        if isinstance(llval, list):\n",
    "            self.tree2 = llval\n",
    "        else:\n",
    "            self.tree[2] = llval.gettreelist()\n",
    "\n",
    "    def gettreelist(self):\n",
    "        return self.tree\n"
   ]
  },
  {
   "cell_type": "code",
   "execution_count": 29,
   "id": "6abc4e70",
   "metadata": {},
   "outputs": [
    {
     "name": "stdout",
     "output_type": "stream",
     "text": [
      "10\n",
      "5\n",
      "15\n",
      "30\n"
     ]
    }
   ],
   "source": [
    "tree = [10, [5, [3, [], []], [7, [], []]], [15, [], [20, [], []]]]\n",
    "\n",
    "binary_tree = BinaryTreeLL(tree)\n",
    "\n",
    "print(binary_tree.get_val())\n",
    "\n",
    "left_subtree = binary_tree.get_left_child()\n",
    "print(left_subtree.get_val())\n",
    "\n",
    "right_subtree = binary_tree.get_right_child()\n",
    "print(right_subtree.get_val())\n",
    "\n",
    "left_subtree.insert_left_child([2, [], []])\n",
    "tree_list = binary_tree.get_tree_list()\n",
    "print(tree_list)\n",
    "\n",
    "right_subtree.set_val(30)\n",
    "print(right_subtree.get_val())"
   ]
  },
  {
   "cell_type": "markdown",
   "id": "1960d0a5",
   "metadata": {},
   "source": [
    "21) Создать класс BinaryNode реализующий API для хранения\n",
    "двоичных деревьев в виде объектов, ссылающихся на родителя и\n",
    "потомков.\n",
    "* BinaryNode(val) - создание нового экземпляра бинарного\n",
    "дерева. val - или значение root_val или бинарное дерево в виде\n",
    "BinaryNode.\n",
    "* get_val() - возвращает объект, хранящийся в данном узле.\n",
    "* set_val(val) - сохраняет объект val в данный узел.\n",
    "* get_left_child() - возвращает левый дочерний узел\n",
    "\n",
    "рассматриваемого узла.\n",
    "* get_right_child() - возвращает правый дочерний узел\n",
    "рассматриваемого узла.\n",
    "* set_left_child(node) - устанавливает новый левый дочерний\n",
    "узел. node - это или узел BinaryNode или None.\n",
    "* set_right_child(node) - устанавливает новый правый дочерний\n",
    "узел. node - это или узел BinaryNode или None.\n",
    "* get_parent() - возвращает родительский узел.\n",
    "* set_parent(node) - устанавливает новый родительский узел.\n",
    "node - это или узел BinaryNode или None."
   ]
  },
  {
   "cell_type": "code",
   "execution_count": null,
   "id": "7cef2d12",
   "metadata": {},
   "outputs": [],
   "source": []
  },
  {
   "cell_type": "markdown",
   "id": "1a5f687b",
   "metadata": {},
   "source": [
    "22) Реализовать разбор арифметических выражений с\n",
    "операциями +,-,*,/ и произвольным количеством скобок в виде\n",
    "бинарного дерева."
   ]
  },
  {
   "cell_type": "code",
   "execution_count": 20,
   "id": "40a8b073",
   "metadata": {},
   "outputs": [],
   "source": [
    "class Node:\n",
    "    def __init__(self, value):\n",
    "        self.value = value\n",
    "        self.left = None\n",
    "        self.right = None\n",
    "        \n",
    "def parse_expression(expression):\n",
    "    if expression.isdigit():\n",
    "        return Node(int(expression))\n",
    "    brackets_count = 0\n",
    "    for i in range(len(expression)-1, -1, -1):\n",
    "        if expression[i] == ')':\n",
    "            brackets_count += 1\n",
    "        elif expression[i] == '(':\n",
    "            brackets_count -= 1\n",
    "        if brackets_count == 0 and i != 0 and i != len(expression)-1:\n",
    "            break\n",
    "    if expression[0] == '(' and expression[-1] == ')' and i == len(expression)-2:\n",
    "        return parse_expression(expression[1:-1])\n",
    "    operators = ['+', '-', '*', '/']\n",
    "    for op in operators:\n",
    "        for j in range(i, len(expression)):\n",
    "            if expression[j] == op:\n",
    "                node = Node(op)\n",
    "                node.left = parse_expression(expression[:j])\n",
    "                node.right = parse_expression(expression[j+1:])\n",
    "                print(node)\n",
    "                return node"
   ]
  },
  {
   "cell_type": "code",
   "execution_count": 30,
   "id": "b7faa752",
   "metadata": {},
   "outputs": [
    {
     "name": "stdout",
     "output_type": "stream",
     "text": [
      "5\n"
     ]
    }
   ],
   "source": [
    "expression = '((6+9)*2-5)/5'\n",
    "tree = parse_expression(expression)"
   ]
  },
  {
   "cell_type": "markdown",
   "id": "19ad5a21",
   "metadata": {},
   "source": [
    "23) Реализовать рассчет арифметического выражения,\n",
    "представленного в виде бинарного дерева из 22)."
   ]
  },
  {
   "cell_type": "markdown",
   "id": "805e0f41",
   "metadata": {},
   "source": [
    "24) Реализовать прямой, обратный и симметричный порядок\n",
    "обхода дерева."
   ]
  },
  {
   "cell_type": "code",
   "execution_count": 24,
   "id": "e713a794",
   "metadata": {},
   "outputs": [],
   "source": [
    "class tree:\n",
    "    def init(self, value):\n",
    "        self.left = None\n",
    "        self.right = None\n",
    "        self.value = value\n",
    "\n",
    "    def insert(self, value):\n",
    "        if value < self.value:\n",
    "            if self.left is None:\n",
    "                self.left = Node(value)\n",
    "            else:\n",
    "                self.left.insert(value)\n",
    "        elif value > self.value:\n",
    "            if self.right is None:\n",
    "                self.right = Node(value)\n",
    "            else:\n",
    "                self.right.insert(value)\n",
    "\n",
    "    def inorder(self):\n",
    "        if self.left:\n",
    "            self.left.printinorder()\n",
    "        print(self.value)\n",
    "        if self.right:\n",
    "            self.right.printinorder()\n",
    "\n",
    "    def reverseorder(self):\n",
    "        if self.right:\n",
    "            self.right.printreverseorder()\n",
    "        print(self.value)\n",
    "        if self.left:\n",
    "            self.left.printreverseorder()\n",
    "\n",
    "    def symmetricorder(self):\n",
    "        if self.left:\n",
    "            self.left.printsymmetricorder()\n",
    "        print(self.value)\n",
    "        if self.right:\n",
    "            self.right.printsymmetricorder()"
   ]
  },
  {
   "cell_type": "markdown",
   "id": "1d2ff699",
   "metadata": {},
   "source": [
    "25) Реализовать двоичное дерево поиска с поддержкой\n",
    "операций: вставки (insert), проверки вхождения (оператор in) и\n",
    "удаления значений (оператор del)."
   ]
  },
  {
   "cell_type": "markdown",
   "id": "a63cfcc6",
   "metadata": {},
   "source": [
    "26) Реализовать функцию построения двоичной кучи из\n",
    "неотсортированного списка."
   ]
  },
  {
   "cell_type": "code",
   "execution_count": 25,
   "id": "8286de59",
   "metadata": {},
   "outputs": [],
   "source": [
    "def build_heap(lst):\n",
    "    n = len(lst)\n",
    "    for i in range(n // 2 - 1, -1, -1):\n",
    "        j = i\n",
    "        while 2 * j + 1 < n:\n",
    "            k = 2 * j + 1\n",
    "            if k + 1 < n and lst[k + 1] > lst[k]:\n",
    "                k += 1\n",
    "            if lst[k] > lst[j]:\n",
    "                lst[j], lst[k] = lst[k], lst[j]\n",
    "                j = k\n",
    "            else:\n",
    "                break"
   ]
  },
  {
   "cell_type": "code",
   "execution_count": 26,
   "id": "9714a094",
   "metadata": {},
   "outputs": [
    {
     "name": "stdout",
     "output_type": "stream",
     "text": [
      "[16, 14, 10, 8, 7, 9, 3, 2, 4, 1]\n"
     ]
    }
   ],
   "source": [
    "lst = [4, 1, 3, 2, 16, 9, 10, 14, 8, 7]\n",
    "build_heap(lst)\n",
    "print(lst)"
   ]
  }
 ],
 "metadata": {
  "kernelspec": {
   "display_name": "Python 3 (ipykernel)",
   "language": "python",
   "name": "python3"
  },
  "language_info": {
   "codemirror_mode": {
    "name": "ipython",
    "version": 3
   },
   "file_extension": ".py",
   "mimetype": "text/x-python",
   "name": "python",
   "nbconvert_exporter": "python",
   "pygments_lexer": "ipython3",
   "version": "3.9.7"
  }
 },
 "nbformat": 4,
 "nbformat_minor": 5
}
