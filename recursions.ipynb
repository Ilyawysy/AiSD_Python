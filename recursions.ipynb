{
 "cells": [
  {
   "cell_type": "code",
   "execution_count": 18,
   "id": "cb0be705",
   "metadata": {},
   "outputs": [
    {
     "name": "stdout",
     "output_type": "stream",
     "text": [
      "  factorial(5)\n",
      "    factorial(4)\n",
      "      factorial(3)\n",
      "        factorial(2)\n",
      "          factorial(1)\n",
      "\n"
     ]
    }
   ],
   "source": [
    "c = 1\n",
    "def factorial(n):\n",
    "    global c\n",
    "    c += 1\n",
    "    if n == 0:\n",
    "        return ''\n",
    "    print(f'{\"  \" * (c - 1)}factorial({n})')\n",
    "    return factorial(n - 1)\n",
    "print(factorial(5))"
   ]
  },
  {
   "cell_type": "markdown",
   "id": "53679b07",
   "metadata": {},
   "source": [
    "1.2) Реализовать функции printIn(s) и printOut(s), которые выводят строки s\n",
    "с отступами, при этом каждый вывод printIn(s) приводит к увеличению\n",
    "отсутпа, а каждый вывод printOut(s) приводит к уменьшению отсутпа."
   ]
  },
  {
   "cell_type": "code",
   "execution_count": 92,
   "id": "9fbe9c36",
   "metadata": {},
   "outputs": [],
   "source": [
    "rt = 0\n",
    "def printIn(s):\n",
    "    global rt\n",
    "    rt += 1\n",
    "    print('    ' * rt, s)\n",
    "    return ''\n",
    "\n",
    "def printOut(s):\n",
    "    global rt\n",
    "    rt -= 1\n",
    "    print('    ' * rt, s)\n",
    "    return ''"
   ]
  },
  {
   "cell_type": "code",
   "execution_count": 94,
   "id": "f29f9de2",
   "metadata": {
    "scrolled": true
   },
   "outputs": [
    {
     "name": "stdout",
     "output_type": "stream",
     "text": [
      "     12345\n",
      "\n",
      "         12345\n",
      "\n",
      "             12345\n",
      "\n",
      "                 12345\n",
      "\n",
      "             12345\n",
      "\n",
      "         12345\n",
      "\n",
      "     12345\n",
      "\n",
      " 12345\n",
      "\n"
     ]
    }
   ],
   "source": [
    "s = '12345'\n",
    "print(printIn(s))\n",
    "print(printIn(s))\n",
    "print(printIn(s))\n",
    "print(printIn(s))\n",
    "\n",
    "print(printOut(s))\n",
    "print(printOut(s))\n",
    "print(printOut(s))\n",
    "print(printOut(s))"
   ]
  },
  {
   "cell_type": "markdown",
   "id": "7843497d",
   "metadata": {},
   "source": [
    "1.3) С использованием printIn(s) и printOut(s) реализовать отладочный\n",
    "вывод работы factorial(n) как для вызовов функций, так и для\n",
    "возвращаемых значений."
   ]
  },
  {
   "cell_type": "code",
   "execution_count": 60,
   "id": "bf0b3f82",
   "metadata": {},
   "outputs": [
    {
     "name": "stdout",
     "output_type": "stream",
     "text": [
      "factorial(4)\n",
      "  factorial(3)\n",
      "    factorial(2)\n",
      "      factorial(1)\n",
      "        factorial(0)\n",
      "        1\n",
      "      1\n",
      "    2\n",
      "  6\n",
      "24\n"
     ]
    },
    {
     "data": {
      "text/plain": [
       "24"
      ]
     },
     "execution_count": 60,
     "metadata": {},
     "output_type": "execute_result"
    }
   ],
   "source": [
    "count = 0\n",
    "\n",
    "def factorial(n):\n",
    "    global count\n",
    "    print(\"  \" * (count) + \"factorial({})\".format(n))\n",
    "    count += 1\n",
    "    if n == 0:\n",
    "        result = 1\n",
    "    else:\n",
    "        result = n * factorial(n-1)\n",
    "    count -= 1\n",
    "    print(\"  \" * (count) + str(result))\n",
    "    return result\n",
    "\n",
    "factorial(4)"
   ]
  },
  {
   "cell_type": "markdown",
   "id": "f5c41589",
   "metadata": {},
   "source": [
    "2) Рекурсивно реализовать функцию fib(n) вычисляющую значение n-го\n",
    "числа Фибоначи. Учесть возможность вычисления числа с отрицательным\n",
    "индексом."
   ]
  },
  {
   "cell_type": "code",
   "execution_count": 19,
   "id": "d1edca5c",
   "metadata": {},
   "outputs": [
    {
     "name": "stdout",
     "output_type": "stream",
     "text": [
      "55\n"
     ]
    }
   ],
   "source": [
    "def fib(n):\n",
    "    if n in (1, 2):\n",
    "        return 1\n",
    "    return fibonacci(n - 1) + fibonacci(n - 2)\n",
    " \n",
    "print(fib(10))"
   ]
  },
  {
   "cell_type": "code",
   "execution_count": 18,
   "id": "f8636880",
   "metadata": {},
   "outputs": [
    {
     "name": "stdout",
     "output_type": "stream",
     "text": [
      "8\n"
     ]
    }
   ],
   "source": [
    "def fib(n):\n",
    "    if n >= 0:\n",
    "        idx = range(n+1)\n",
    "        x = [0,1]\n",
    "        for k in idx[2:]:\n",
    "           x.append(x[k-1] + x[k-2]) \n",
    "        return x[n]\n",
    "    else:\n",
    "       n=-(n-1)\n",
    "       idx = range(n+1)\n",
    "       x = [1,0]\n",
    "       for k in idx[2:]:\n",
    "           x.append(x[k-2] - x[k-1]) \n",
    "       x.reverse()\n",
    "    return x[0]\n",
    "\n",
    "print(fibo(6))"
   ]
  },
  {
   "cell_type": "markdown",
   "id": "37f18aaf",
   "metadata": {},
   "source": [
    "3) Реализовать функцию, принимающую на вход итерируемый объект\n",
    "функций и возвращающую словарь, в котором ключ - это первое слово из\n",
    "аннотации функции, а значение - ссылка на функцию."
   ]
  },
  {
   "cell_type": "code",
   "execution_count": 21,
   "id": "49143735",
   "metadata": {},
   "outputs": [],
   "source": [
    "def func1(n: 'its name'):\n",
    "    return f'hello {n}'\n",
    "\n",
    "def func2(n: 'its age'):\n",
    "    return f'im {n}'\n",
    "\n",
    "def func3(n: 'number of !'):\n",
    "    return '!'*n"
   ]
  },
  {
   "cell_type": "code",
   "execution_count": 22,
   "id": "cbc3c398",
   "metadata": {},
   "outputs": [
    {
     "name": "stdout",
     "output_type": "stream",
     "text": [
      "{'its name': 'func1', 'its age': 'func2', 'number of !': 'func3'}\n"
     ]
    }
   ],
   "source": [
    "def iter_f(obj):\n",
    "    dic = {}\n",
    "    for func in obj:\n",
    "        dic[func.__annotations__['n']] = func.__name__\n",
    "    return dic\n",
    "print(iter_f([func1, func2, func3]))"
   ]
  },
  {
   "cell_type": "markdown",
   "id": "3abf8909",
   "metadata": {},
   "source": [
    "4) Создать функцию реализующую REPL для словаря, созданного в задаче\n",
    "3. Отдельно должен предусматриваться выход из цикла REPL."
   ]
  },
  {
   "cell_type": "code",
   "execution_count": 25,
   "id": "521f624a",
   "metadata": {},
   "outputs": [
    {
     "name": "stdout",
     "output_type": "stream",
     "text": [
      "func2\n",
      "{'its age': 'func2'}\n",
      "func3, func1\n",
      "{'number of !': 'func3', 'its name': 'func1'}\n",
      "func1, func2, func3\n",
      "{'its name': 'func1', 'its age': 'func2', 'number of !': 'func3'}\n",
      "\n",
      "end of the loop\n"
     ]
    }
   ],
   "source": [
    "def REPR():\n",
    "    obj = input()\n",
    "    if len(obj) == 0:\n",
    "        return 'end of the loop'\n",
    "    print(iter_f(eval(i) for i in obj.split(', ')))\n",
    "    return REPR()\n",
    "print(REPR())"
   ]
  },
  {
   "cell_type": "markdown",
   "id": "b335e78d",
   "metadata": {},
   "source": [
    "    в 4 уже реализовано 4.1"
   ]
  }
 ],
 "metadata": {
  "kernelspec": {
   "display_name": "Python 3 (ipykernel)",
   "language": "python",
   "name": "python3"
  },
  "language_info": {
   "codemirror_mode": {
    "name": "ipython",
    "version": 3
   },
   "file_extension": ".py",
   "mimetype": "text/x-python",
   "name": "python",
   "nbconvert_exporter": "python",
   "pygments_lexer": "ipython3",
   "version": "3.9.12"
  }
 },
 "nbformat": 4,
 "nbformat_minor": 5
}
