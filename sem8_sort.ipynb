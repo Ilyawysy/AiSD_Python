{
 "cells": [
  {
   "cell_type": "markdown",
   "id": "cd451176",
   "metadata": {},
   "source": [
    "11) Создать декоратор tolst(len, fill) с параметрами len и fill. Декоратор\n",
    "превращает результат декорируемой функции в список состоящий из len\n",
    "элементов. Если исходная функция возвращает меньше заданного\n",
    "количества элементов, то оставшиеся места заполняются значениями fill, в\n",
    "случае, если количество возврващаемых элементов больше len, то хвост\n",
    "последовательности отбрасывается.\n",
    "https://stackoverflow.com/a/10176276"
   ]
  },
  {
   "cell_type": "code",
   "execution_count": 1,
   "id": "f98f716f",
   "metadata": {},
   "outputs": [
    {
     "name": "stdout",
     "output_type": "stream",
     "text": [
      "['Z', 'Z', 'Z', 'Q']\n"
     ]
    }
   ],
   "source": [
    "def tolst(func):\n",
    "    len1 = 4\n",
    "    fill = 'Q'\n",
    "    def wrapper(len1, fill):\n",
    "        if len(func()) == len1:\n",
    "            return print(list(func()))\n",
    "        elif len(func()) > len1:\n",
    "            return print(list(func())[:len1])\n",
    "        else:\n",
    "            return print(list(func() + fill * (len1 - len(func()))))\n",
    "\n",
    "    return wrapper(len1, fill)\n",
    "\n",
    "\n",
    "@tolst  \n",
    "def my_fn():\n",
    "    return 'ZZZ'"
   ]
  },
  {
   "cell_type": "markdown",
   "id": "e3f6f1ec",
   "metadata": {},
   "source": [
    "12) При помощи механизма map/filter/reduce возвести число 5 в степени от\n",
    "0 до 10.    \n",
    "12.2) Написать реализацию 12.1) без доп. функций (в том числе lambda).    \n",
    "12.1) Написать реализацию 12) без оператора ** (возведение в степень) и\n",
    "написания доп. функций."
   ]
  },
  {
   "cell_type": "code",
   "execution_count": 2,
   "id": "b31ddc2b",
   "metadata": {},
   "outputs": [
    {
     "name": "stdout",
     "output_type": "stream",
     "text": [
      "[1, 5, 25, 125, 625, 3125, 15625, 78125, 390625, 1953125, 9765625]\n"
     ]
    }
   ],
   "source": [
    "def power(n):\n",
    "    return 5 ** n\n",
    "\n",
    "print(list(map(power, [i for i in range(11)])))"
   ]
  },
  {
   "cell_type": "code",
   "execution_count": 3,
   "id": "85237b8a",
   "metadata": {},
   "outputs": [
    {
     "name": "stdout",
     "output_type": "stream",
     "text": [
      "[0, 25, 50, 75, 100, 125, 150, 175, 200, 225]\n"
     ]
    }
   ],
   "source": [
    "print(list(5*n for n in range(0, 50, 5)))"
   ]
  },
  {
   "cell_type": "code",
   "execution_count": 4,
   "id": "058e919b",
   "metadata": {},
   "outputs": [
    {
     "data": {
      "text/plain": [
       "[1, 5, 25, 125, 625, 3125, 15625, 78125, 390625, 1953125, 9765625]"
      ]
     },
     "execution_count": 4,
     "metadata": {},
     "output_type": "execute_result"
    }
   ],
   "source": [
    "from functools import partial\n",
    "list(map(partial(pow, 5), [i for i in range(11)]))"
   ]
  },
  {
   "cell_type": "code",
   "execution_count": 5,
   "id": "733f807d",
   "metadata": {},
   "outputs": [
    {
     "data": {
      "text/plain": [
       "[1, 5, 25, 125, 625, 3125, 15625, 78125, 390625, 1953125, 9765625]"
      ]
     },
     "execution_count": 5,
     "metadata": {},
     "output_type": "execute_result"
    }
   ],
   "source": [
    "list(map(pow, [5]*11, [i for i in range(11)]))"
   ]
  },
  {
   "cell_type": "markdown",
   "id": "faa7bce5",
   "metadata": {},
   "source": [
    "13) При помощи механизма map/filter/reduce превраить список целых\n",
    "чисел в строку, содержащую строковое представление этих чисел,\n",
    "разделенное пробелами.\n",
    "Пример: [1, 2, 3, 4] -&gt; &#39;1 2 3 4&#39;"
   ]
  },
  {
   "cell_type": "code",
   "execution_count": 6,
   "id": "1a051a83",
   "metadata": {},
   "outputs": [
    {
     "data": {
      "text/plain": [
       "'1 2 3 4'"
      ]
     },
     "execution_count": 6,
     "metadata": {},
     "output_type": "execute_result"
    }
   ],
   "source": [
    "' '.join(list(map(str, [1, 2, 3, 4])))"
   ]
  },
  {
   "cell_type": "code",
   "execution_count": 25,
   "id": "2bbfd194",
   "metadata": {},
   "outputs": [
    {
     "data": {
      "text/plain": [
       "'1 2 3 4'"
      ]
     },
     "execution_count": 25,
     "metadata": {},
     "output_type": "execute_result"
    }
   ],
   "source": [
    "from functools import reduce\n",
    "\n",
    "lb = lambda a, b: f'{a} {b}'\n",
    "\n",
    "reduced = reduce(lb, [1, 2, 3, 4])\n",
    "reduced"
   ]
  },
  {
   "cell_type": "markdown",
   "id": "9bfd6963",
   "metadata": {},
   "source": [
    "14) При помощи механизма map/filter/reduce возвести в квадрат числа от 1\n",
    "до 100, и рассчитать их сумму, не включая в сумму числа, кратные 9.\n",
    "14.1) Написать реализацию 14) в одну строку."
   ]
  },
  {
   "cell_type": "code",
   "execution_count": 1,
   "id": "adf55b91",
   "metadata": {},
   "outputs": [
    {
     "data": {
      "text/plain": [
       "338350"
      ]
     },
     "execution_count": 1,
     "metadata": {},
     "output_type": "execute_result"
    }
   ],
   "source": [
    "sum(map(lambda a: a ** 2, range(1, 101)))"
   ]
  },
  {
   "cell_type": "markdown",
   "id": "4c9c5f7b",
   "metadata": {},
   "source": [
    "15) При помощи механизма map/filter/reduce из списка списков извлечь\n",
    "элементы, содержащиеся во вложенных списках по индексу 1.\n",
    "Пример:\n",
    "[[1, 2, 3], [2, 3, 4], [0, 1 , 1 , 1], [0, 0]] -&gt; [2, 3, 1, 0]    \n",
    "15.1) Написать реализацию    \n",
    "15.2) без доп. функций (в том числе lambda)."
   ]
  },
  {
   "cell_type": "code",
   "execution_count": 2,
   "id": "9cf344a1",
   "metadata": {},
   "outputs": [
    {
     "data": {
      "text/plain": [
       "[2, 3, 1, 0]"
      ]
     },
     "execution_count": 2,
     "metadata": {},
     "output_type": "execute_result"
    }
   ],
   "source": [
    "list(map(lambda x: x[1], [[1, 2, 3], [2, 3, 4], [0, 1 , 1 , 1], [0, 0]]))"
   ]
  },
  {
   "cell_type": "markdown",
   "id": "d41a0406",
   "metadata": {},
   "source": [
    "16) При помощи механизма map/filter/reduce из несколько одинаковых\n",
    "подряд идущих элементов оставить только один.\n",
    "[1, 2, 3, 4, 4, 4, 5, 6, 6, 7, 6, 1, 1] -&gt; [1, 2, 3, 4, 5, 6, 7, 6, 1]"
   ]
  },
  {
   "cell_type": "code",
   "execution_count": null,
   "id": "9c770cd3",
   "metadata": {},
   "outputs": [],
   "source": []
  },
  {
   "cell_type": "markdown",
   "id": "4ea9229d",
   "metadata": {},
   "source": [
    "17) Написать декоратор flip, который переставляет аргументы\n",
    "декорируемой функции в обратном порядке (функция не имеет\n",
    "именованых аргументов)."
   ]
  },
  {
   "cell_type": "code",
   "execution_count": 2,
   "id": "62440d77",
   "metadata": {},
   "outputs": [
    {
     "name": "stdout",
     "output_type": "stream",
     "text": [
      "('hello', 'world')\n"
     ]
    }
   ],
   "source": [
    "def decor(func):\n",
    "    def wrapper(*args):\n",
    "        result = func(*reversed(args))\n",
    "        return result\n",
    "    return wrapper\n",
    "\n",
    "\n",
    "\n",
    "@decor\n",
    "def func1(a, b):\n",
    "    return a, b\n",
    "\n",
    "print(func1('world', 'hello'))"
   ]
  },
  {
   "cell_type": "markdown",
   "id": "2369dc1c",
   "metadata": {},
   "source": [
    "18) Провести расчет суммы четных чисел от 2 до 2 000 000 не создавая\n",
    "структур данных, хранящих эти числа.\n",
    "import functools https://pythonworld.ru/moduli/modul-functools.html\n",
    "import itertools https://pythonworld.ru/moduli/modul-itertools.html"
   ]
  },
  {
   "cell_type": "code",
   "execution_count": 1,
   "id": "a49dd849",
   "metadata": {},
   "outputs": [
    {
     "data": {
      "text/plain": [
       "1000001000000"
      ]
     },
     "execution_count": 1,
     "metadata": {},
     "output_type": "execute_result"
    }
   ],
   "source": [
    "from itertools import accumulate\n",
    "list(accumulate([i for i in range(2, 2000001) if i % 2 == 0]))[-1]"
   ]
  },
  {
   "cell_type": "markdown",
   "id": "8490cc20",
   "metadata": {},
   "source": [
    "19) Написать компактный код, порождающий список вида:\n",
    "[3, ...(20 элементов)..., 3, 6, ...(20 элементов)..., 6, 9, ...(20 элементов)..., 9,\n",
    "12, ...(20 элементов)..., 12]\n",
    "Код должно быть легко модифицировать, чтобы менять количество\n",
    "повторений элементов, количество разных элементов, и шаг с которым\n",
    "изменются элементы. Например, легко можно получить\n",
    "последовательность:\n",
    "[4, ...(10 элементов)..., 4, 9, ...(10 элементов)..., 9]"
   ]
  },
  {
   "cell_type": "code",
   "execution_count": 16,
   "id": "6832b120",
   "metadata": {},
   "outputs": [
    {
     "data": {
      "text/plain": [
       "[[4, 4, 4], [9, 9, 9], [14, 14, 14], [19, 19, 19]]"
      ]
     },
     "execution_count": 16,
     "metadata": {},
     "output_type": "execute_result"
    }
   ],
   "source": [
    "def making_list(start, step, num_of_repeating, end):\n",
    "    return list([el] * num_of_repeating for el in range(start, end, step))\n",
    "\n",
    "making_list(4, 5, 3, 22)"
   ]
  },
  {
   "cell_type": "markdown",
   "id": "b5688acb",
   "metadata": {},
   "source": [
    "21) Написать генератор чисел Фибоначчи.    \n",
    "21.1) Реализовать 21) без цикла.    \n",
    "\n",
    "from itertools import accumulate, repeat\n",
    "from operator import itemgetter"
   ]
  },
  {
   "cell_type": "code",
   "execution_count": 23,
   "id": "31ee1a3c",
   "metadata": {},
   "outputs": [
    {
     "name": "stdout",
     "output_type": "stream",
     "text": [
      "10\n"
     ]
    },
    {
     "data": {
      "text/plain": [
       "55"
      ]
     },
     "execution_count": 23,
     "metadata": {},
     "output_type": "execute_result"
    }
   ],
   "source": [
    "fib1 = 1\n",
    "fib2 = 1\n",
    "for i in range(2, int(input())):\n",
    "    fib1, fib2 = fib2, fib1 + fib2\n",
    "fib2"
   ]
  },
  {
   "cell_type": "code",
   "execution_count": 24,
   "id": "3e0a8125",
   "metadata": {},
   "outputs": [
    {
     "data": {
      "text/plain": [
       "'ответ - 55'"
      ]
     },
     "execution_count": 24,
     "metadata": {},
     "output_type": "execute_result"
    }
   ],
   "source": [
    "root5 = pow(5, 0.5)\n",
    "ratio = (1 + root5)/2\n",
    "\n",
    "def fib(n):\n",
    "    return f'ответ - {int((pow(ratio, n) - pow(1 - ratio, n))/root5)}'\n",
    "\n",
    "fib(10)"
   ]
  },
  {
   "cell_type": "code",
   "execution_count": null,
   "id": "1f4c6bab",
   "metadata": {},
   "outputs": [],
   "source": []
  },
  {
   "cell_type": "code",
   "execution_count": null,
   "id": "28c760bb",
   "metadata": {},
   "outputs": [],
   "source": []
  }
 ],
 "metadata": {
  "kernelspec": {
   "display_name": "Python 3 (ipykernel)",
   "language": "python",
   "name": "python3"
  },
  "language_info": {
   "codemirror_mode": {
    "name": "ipython",
    "version": 3
   },
   "file_extension": ".py",
   "mimetype": "text/x-python",
   "name": "python",
   "nbconvert_exporter": "python",
   "pygments_lexer": "ipython3",
   "version": "3.9.12"
  }
 },
 "nbformat": 4,
 "nbformat_minor": 5
}
