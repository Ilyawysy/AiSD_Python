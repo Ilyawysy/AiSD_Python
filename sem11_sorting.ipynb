{
 "cells": [
  {
   "cell_type": "markdown",
   "id": "0cc343c4",
   "metadata": {},
   "source": [
    "1. Написать 4 функции порождения списка целых значений:\n",
    "отсортированного (по возрастанию и убыванию), случайного и\n",
    "почти отсортированного по возрастанию. Каждая функция\n",
    "принимает длину списка в качестве аргумента."
   ]
  },
  {
   "cell_type": "code",
   "execution_count": 66,
   "id": "732a60fe",
   "metadata": {},
   "outputs": [
    {
     "name": "stdout",
     "output_type": "stream",
     "text": [
      "[1, 2, 3, 4, 5]\n",
      "[5, 4, 3, 2, 1]\n",
      "[66, 1, 28, 25, 52]\n"
     ]
    }
   ],
   "source": [
    "def gen_up(length):\n",
    "    return list(range(1, length + 1))\n",
    "\n",
    "def gen_down(length):\n",
    "    return list(range(length, 0, -1))\n",
    "\n",
    "import random\n",
    "def random_gen(length):\n",
    "    return [random.randint(1, 100) for i in range(length)]\n",
    "\n",
    "print(gen_up(5))\n",
    "print(gen_down(5))\n",
    "print(random_gen(5))"
   ]
  },
  {
   "cell_type": "markdown",
   "id": "95ad1d2f",
   "metadata": {},
   "source": [
    "2. Реализовать функцию тестирования алгоритма сортировки.\n",
    "Процедура принимает на вход алгоритм сортировки и алгоритм\n",
    "порождения списка f_gen(list_len), генерирующий список заданной\n",
    "длины, количество повторений теста и список длин использующихся\n",
    "для тестирования."
   ]
  },
  {
   "cell_type": "code",
   "execution_count": 64,
   "id": "d783bd6f",
   "metadata": {},
   "outputs": [
    {
     "name": "stdout",
     "output_type": "stream",
     "text": [
      "[1, 2]\n",
      "[1, 2, 3, 4]\n",
      "[1, 2, 3, 4, 5, 6]\n",
      "[1, 2, 3, 4, 5, 6, 7, 8]\n"
     ]
    }
   ],
   "source": [
    "def test(sort_name, gen_name, length_list):\n",
    "    for length in length_list:\n",
    "        print(sort_name(gen_name(length)))\n",
    "    return\n",
    "\n",
    "test(bubblesort, gen_down, [2, 4, 6, 8])"
   ]
  },
  {
   "cell_type": "markdown",
   "id": "c677b78c",
   "metadata": {},
   "source": [
    "3. Для каждой длины списка функция тестирования возвращает\n",
    "минимальное, среднее и наибольшее количество сравнений и\n",
    "перестановок."
   ]
  },
  {
   "cell_type": "markdown",
   "id": "8297a935",
   "metadata": {},
   "source": [
    "4. Реализовать классический алгоритм сортировки пузырьком. (см.\n",
    "описание алгоритма в презентации)"
   ]
  },
  {
   "cell_type": "code",
   "execution_count": 1,
   "id": "98f52d95",
   "metadata": {},
   "outputs": [
    {
     "data": {
      "text/plain": [
       "[1, 5, 6, 7, 12, 53, 88]"
      ]
     },
     "execution_count": 1,
     "metadata": {},
     "output_type": "execute_result"
    }
   ],
   "source": [
    "def bubblesort(data):\n",
    "    for i1 in range(len(data)):\n",
    "        for i2 in range(len(data) - 1 - i1):\n",
    "            # находим минимум и максимум для замены элементов\n",
    "            mi = min(data[i2], data[i2 + 1])\n",
    "            ma = max(data[i2], data[i2 + 1])\n",
    "            # заменяем\n",
    "            data[i2] = mi\n",
    "            data[i2 + 1] = ma\n",
    "    return data"
   ]
  },
  {
   "cell_type": "markdown",
   "id": "42951bd6",
   "metadata": {},
   "source": [
    "5. Реализовать модификацию сортировки пузырьком: &quot;камешек-\n",
    "пузырек&quot; - с чередующимися проходами, приводящими к\n",
    "&quot;всплытию&quot; самого большого значения списка и &quot;погружению&quot;\n",
    "самого маленького значения из неотсортированной части списка.\n",
    "https://habr.com/ru/articles/204600/"
   ]
  },
  {
   "cell_type": "code",
   "execution_count": 23,
   "id": "d13a60dd",
   "metadata": {},
   "outputs": [],
   "source": [
    "def shakesort(data):\n",
    "    head = range(len(data) - 1)\n",
    "    while True:\n",
    "        for el in (head, reversed(head)):\n",
    "            swapped = False\n",
    "            for i in el:\n",
    "                if data[i] > data[i+1]:\n",
    "                    data[i], data[i+1] =  data[i+1], data[i]\n",
    "                    swapped = True\n",
    "            if swapped == False:\n",
    "                return data"
   ]
  },
  {
   "cell_type": "markdown",
   "id": "40078d6f",
   "metadata": {},
   "source": [
    "6. Протестировать алгоритм &quot;пузырек&quot; и &quot;камешек-пузырек&quot; на\n",
    "разных типах списков."
   ]
  },
  {
   "cell_type": "code",
   "execution_count": 21,
   "id": "0c039384",
   "metadata": {},
   "outputs": [
    {
     "name": "stdout",
     "output_type": "stream",
     "text": [
      "result of bubblesort is - [1, 5, 6, 7, 12, 53, 88]\n",
      "result of shakesort is - [1, 5, 6, 7, 12, 53, 88]\n"
     ]
    }
   ],
   "source": [
    "print('result of bubblesort is -', bubblesort([7,5, 6, 88, 1, 53, 12]))\n",
    "print('result of shakesort is -', shakesort([7,5, 6, 88, 1, 53, 12]))"
   ]
  },
  {
   "cell_type": "markdown",
   "id": "9b8da8da",
   "metadata": {},
   "source": [
    "7. Реализовать алгоритм сортировки выбором. (см. описание алгоритма\n",
    "в презентации)"
   ]
  },
  {
   "cell_type": "code",
   "execution_count": 24,
   "id": "ff15a69b",
   "metadata": {},
   "outputs": [
    {
     "data": {
      "text/plain": [
       "[1, 5, 6, 7, 12, 53, 88]"
      ]
     },
     "execution_count": 24,
     "metadata": {},
     "output_type": "execute_result"
    }
   ],
   "source": [
    "def choise_sort(data):\n",
    "    for el in range(len(data)):\n",
    "        for num in range(el, len(data)): # каждый раз уменьшаю проходку на 1\n",
    "                                         # т.к вставляется минимальный элемент в начало\n",
    "            minimum = min(data[el:]) # нахожу минимум\n",
    "            \n",
    "            data[data.index(minimum)] = data[el] # меняю первый элемент на минимальный\n",
    "            data[el] = minimum # минимальный ставлю в начало\n",
    "    return data\n",
    "\n",
    "choise_sort([7,5, 6, 88, 1, 53, 12])"
   ]
  },
  {
   "cell_type": "markdown",
   "id": "62f6f311",
   "metadata": {},
   "source": [
    "8. Реализовать модификацию сортировки выбором на основе выбора\n",
    "из подсписков (описанного в лекции). Протестировать алгоритм."
   ]
  },
  {
   "cell_type": "markdown",
   "id": "deecda9e",
   "metadata": {},
   "source": [
    "9. Реализовать быструю сортировку с возможностью подсчета\n",
    "операций. Сравнить производительность алгоритма на случайных и\n",
    "упорядоченных (и почти упорядоченных) данных."
   ]
  },
  {
   "cell_type": "code",
   "execution_count": 98,
   "id": "81ac8cd7",
   "metadata": {},
   "outputs": [
    {
     "data": {
      "text/plain": [
       "[1, 5, 6, 7, 12, 53, 88]"
      ]
     },
     "execution_count": 98,
     "metadata": {},
     "output_type": "execute_result"
    }
   ],
   "source": [
    "import time\n",
    "def quicksort(data):\n",
    "    if len(data) <= 1:\n",
    "        return data\n",
    "    else:\n",
    "        rand = random.choice(data)\n",
    "        el_less = [elem for elem in data if elem < rand]\n",
    "        rand_count_list = [rand] * data.count(rand)\n",
    "        el_more = [elem for elem in data if elem > rand] \n",
    "        return quicksort(el_less) + rand_count + quicksort(el_more)\n",
    "\n",
    "quicksort([7,5, 6, 88, 1, 53, 12])"
   ]
  },
  {
   "cell_type": "markdown",
   "id": "eef1e907",
   "metadata": {},
   "source": [
    "10. Улучшить работу быстрой сортировки на упорядоченных и почти\n",
    "упорядоченных за счет изменения алгоритма выбора элемента для\n",
    "разделения массива."
   ]
  },
  {
   "cell_type": "markdown",
   "id": "f4e5f087",
   "metadata": {},
   "source": [
    "11. Реализовать эффективный алгоритм получения из большого\n",
    "количества отсортированных списков одного отсортированного\n",
    "списка."
   ]
  },
  {
   "cell_type": "code",
   "execution_count": 113,
   "id": "e7432b08",
   "metadata": {},
   "outputs": [
    {
     "data": {
      "text/plain": [
       "[1, 2, 6, 9, 12, 20, 23, 34, 34, 90, 1000, 2000]"
      ]
     },
     "execution_count": 113,
     "metadata": {},
     "output_type": "execute_result"
    }
   ],
   "source": [
    "def mergearrays(arrs, output):\n",
    "    output = []\n",
    "    for i in range(len(arrs)):\n",
    "        for j in range(len(arrs[0])):\n",
    "            output.append(arrs[i][j])\n",
    "    output.sort()\n",
    "    return output\n",
    "\n",
    "mergeArrays([[2, 6, 12, 34], [1, 9, 20, 1000], [23, 34, 90, 2000]], output)"
   ]
  },
  {
   "cell_type": "markdown",
   "id": "8eeaa151",
   "metadata": {},
   "source": [
    "12. Реализовать алгоритм сортировки вставкой. (см. описание\n",
    "алгоритма в презентации)"
   ]
  },
  {
   "cell_type": "code",
   "execution_count": 25,
   "id": "aad420bc",
   "metadata": {},
   "outputs": [
    {
     "data": {
      "text/plain": [
       "[1, 5, 6, 7, 12, 53, 88]"
      ]
     },
     "execution_count": 25,
     "metadata": {},
     "output_type": "execute_result"
    }
   ],
   "source": [
    "def insertion_sort(data):\n",
    "    for el in range(1, len(data)):\n",
    "        value = data[el]\n",
    "        num = el - 1\n",
    "        while num != -1 and value < data[num] :\n",
    "            data[num + 1] = data[num]\n",
    "            num -= 1\n",
    "        data[num + 1] = value\n",
    "    return data\n",
    "\n",
    "insertion_sort([7,5, 6, 88, 1, 53, 12])"
   ]
  },
  {
   "cell_type": "markdown",
   "id": "35b2c779",
   "metadata": {},
   "source": [
    "13. Реализовать классический алгоритм сортировки Шелла. (см.\n",
    "описание алгоритма в презентации)"
   ]
  },
  {
   "cell_type": "code",
   "execution_count": 156,
   "id": "b821daf1",
   "metadata": {},
   "outputs": [
    {
     "data": {
      "text/plain": [
       "[1, 5, 6, 7, 12, 53, 88]"
      ]
     },
     "execution_count": 156,
     "metadata": {},
     "output_type": "execute_result"
    }
   ],
   "source": [
    "def shell_sort(data):\n",
    "    for d in range(len(data) // 2, 0, -1):\n",
    "        mini_list = []\n",
    "        c = 0\n",
    "        c1 = 0\n",
    "        for c in range(0, len(data) // 2):\n",
    "            mini_list = []\n",
    "            for el in range(len(data)):\n",
    "                if el % d == c:\n",
    "                    mini_list.append(data[el])\n",
    "     \n",
    "            insertion_sort(mini_list)\n",
    "\n",
    "            for el in range(len(data)):\n",
    "                if el % d == c:\n",
    "                    data[el] = mini_list[c1]\n",
    "                    c1 += 1\n",
    "\n",
    "            c1 = 0\n",
    "    return data\n",
    "shell_sort([7,5, 6, 88, 1, 53, 12])"
   ]
  },
  {
   "cell_type": "markdown",
   "id": "b93c275c",
   "metadata": {},
   "source": [
    "14. Модифицировать последовательность длин шагов в сортировке\n",
    "Шелла. https://intuit.ru/studies/courses/648/504/lecture/11472?page=2\n",
    "На $2[n/2^{k+1}]+1$\n",
    "т.е. при первой сортировке будут использоваться шаги: 2*[n/4]+1,\n",
    "2*[n/8]+1, ... , 3, 1 ."
   ]
  },
  {
   "cell_type": "markdown",
   "id": "5d35fa14",
   "metadata": {},
   "source": [
    "15. Реализовать алгоритм сортировки слиянием. (см. описание\n",
    "алгоритма в презентации)"
   ]
  },
  {
   "cell_type": "code",
   "execution_count": 160,
   "id": "ec8cf6f3",
   "metadata": {},
   "outputs": [
    {
     "data": {
      "text/plain": [
       "[1, 5, 6, 7, 12, 53, 88]"
      ]
     },
     "execution_count": 160,
     "metadata": {},
     "output_type": "execute_result"
    }
   ],
   "source": [
    "def merge(data1, data2):\n",
    "    result = []\n",
    "    el1 = 0\n",
    "    el2 = 0\n",
    "    while el1 < len(data1) and el2 < len(data2):\n",
    "        if data1[el1] <= data2[el2]:\n",
    "            result.append(data1[el1]) \n",
    "            el1 += 1 \n",
    "        else:\n",
    "            result.append(data2[el2]) \n",
    "            el2 += 1 \n",
    "    result += data1[el1:] + data2[el2:] \n",
    "    return result\n",
    "\n",
    "\n",
    "def mergesort(data): \n",
    "    if len(data) <= 1: \n",
    "        return data\n",
    "    else:\n",
    "        less = data[:len(data) // 2] \n",
    "        more = data[len(data) // 2:] \n",
    "    return merge(mergesort(less), mergesort(more))\n",
    "\n",
    "mergesort([1, 5, 6, 7, 12, 53, 88])"
   ]
  },
  {
   "cell_type": "markdown",
   "id": "c2223b70",
   "metadata": {},
   "source": [
    "16. Задача: Реализовать любой метод сортировки массива. Реализовать\n",
    "самый быстрый (на ваш взгляд) алгоритм поиска числа.\n",
    "Условие:\n",
    "1. Есть массив отсортированных чисел. Пример: [-3, -1, 3, 7, 10]\n",
    "2. Есть дополнительное число Пример: Число 6\n",
    "Необходимо найти в этом массиве два числа, которые в сумме дают\n",
    "дополнительное число\n",
    "Для примера выше ответом будет [-1, 7], тк -1+7=6\n",
    "Если в массиве нету такой пары, то ответом будет пустой массив []\n",
    "\n",
    "Еще несколько примеров:\n",
    "1. [-20, -7, -3, 6, 8] и 5\n",
    "Ответ [-3, 8]\n",
    "2. [-2, -1, 3, 4, 5] и 2\n",
    "Ответ [-2, 4] или [-1, 3]\n",
    "3. [3, 5, 6, 8] и 8\n",
    "Ответ [] тк пары нету"
   ]
  },
  {
   "cell_type": "code",
   "execution_count": 194,
   "id": "74509fc1",
   "metadata": {},
   "outputs": [],
   "source": [
    "def find_sut_sum(array, num):\n",
    "    sum_lst = []\n",
    "    neg_array = []\n",
    "    pos_array = []\n",
    "    for el in range(len(array)):\n",
    "        if array[el] >= 0:\n",
    "            neg_array.append(array[el])\n",
    "        if array[el] <= 0:\n",
    "            pos_array.append(array[el])\n",
    "    print(pos_array, neg_array)\n",
    "    if neg_array == []:       \n",
    "        for el in range(len(pos_array)):\n",
    "            if pos_array[el] > num:\n",
    "                pos_array = pos_array[:el]\n",
    "                break\n",
    "        for el in pos_array:\n",
    "            for el1 in pos_array:\n",
    "                if el + el1 == num:\n",
    "                    sum_lst.append(el)\n",
    "                    sum_lst.append(el1)\n",
    "                    return sum_lst\n",
    "    elif pos_array == []:\n",
    "        print('jdjfd')\n",
    "        for el in range(len(neg_array)):\n",
    "            if neg_array[el] > num:\n",
    "                neg_array = neg_array[:el]\n",
    "                break\n",
    "        for el in neg_array:\n",
    "            for el1 in neg_array:\n",
    "                if el + el1 == num:\n",
    "                    sum_lst.append(el)\n",
    "                    sum_lst.append(el1)\n",
    "                    return sum_lst"
   ]
  },
  {
   "cell_type": "code",
   "execution_count": 195,
   "id": "fc42feaf",
   "metadata": {},
   "outputs": [
    {
     "name": "stdout",
     "output_type": "stream",
     "text": [
      "[] [1, 5, 6, 7, 8, 12, 53, 88]\n",
      "jdjfd\n"
     ]
    },
    {
     "data": {
      "text/plain": [
       "[7, 8]"
      ]
     },
     "execution_count": 195,
     "metadata": {},
     "output_type": "execute_result"
    }
   ],
   "source": [
    "find_sut_sum([1, 5, 6, 7, 8, 12, 53, 88], 15)"
   ]
  },
  {
   "cell_type": "code",
   "execution_count": 196,
   "id": "ff5a4fd3",
   "metadata": {},
   "outputs": [
    {
     "name": "stdout",
     "output_type": "stream",
     "text": [
      "[-1, -5, -6, -7, -8, -12, -53, -88] []\n"
     ]
    }
   ],
   "source": [
    "find_sut_sum([-1, -5, -6, -7, -8, -12, -53, -88], -15)"
   ]
  },
  {
   "cell_type": "code",
   "execution_count": 183,
   "id": "f87a48b5",
   "metadata": {},
   "outputs": [
    {
     "data": {
      "text/plain": [
       "-15"
      ]
     },
     "execution_count": 183,
     "metadata": {},
     "output_type": "execute_result"
    }
   ],
   "source": [
    "-7+-8"
   ]
  },
  {
   "cell_type": "code",
   "execution_count": null,
   "id": "eb8c091e",
   "metadata": {},
   "outputs": [],
   "source": []
  }
 ],
 "metadata": {
  "kernelspec": {
   "display_name": "Python 3 (ipykernel)",
   "language": "python",
   "name": "python3"
  },
  "language_info": {
   "codemirror_mode": {
    "name": "ipython",
    "version": 3
   },
   "file_extension": ".py",
   "mimetype": "text/x-python",
   "name": "python",
   "nbconvert_exporter": "python",
   "pygments_lexer": "ipython3",
   "version": "3.9.12"
  }
 },
 "nbformat": 4,
 "nbformat_minor": 5
}
