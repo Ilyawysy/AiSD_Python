{
 "cells": [
  {
   "cell_type": "markdown",
   "id": "03979448",
   "metadata": {},
   "source": [
    "## Обухов Илья \n",
    "### Семинар от 16.05"
   ]
  },
  {
   "cell_type": "code",
   "execution_count": 1,
   "id": "f4cfa90a",
   "metadata": {},
   "outputs": [],
   "source": [
    "graph = {0: [1, 2], \n",
    "         1: [3, 4],\n",
    "         2: [5],\n",
    "         3: [],\n",
    "         4: [],\n",
    "         5: []\n",
    "        }"
   ]
  },
  {
   "cell_type": "code",
   "execution_count": 2,
   "id": "61c6703d",
   "metadata": {},
   "outputs": [
    {
     "data": {
      "text/plain": [
       "[0, 1, 3, 4, 2, 5]"
      ]
     },
     "execution_count": 2,
     "metadata": {},
     "output_type": "execute_result"
    }
   ],
   "source": [
    "def pre_Order(graph):\n",
    "    visited_nodes = []\n",
    "    queue = [0]\n",
    "    while queue != []:\n",
    "        node = queue.pop(0)\n",
    "        if node not in visited_nodes:\n",
    "            visited_nodes.append(node)\n",
    "            for close_node in reversed(graph[node]):\n",
    "                if close_node not in visited_nodes:\n",
    "                    queue.insert(0, close_node)\n",
    "    return visited_nodes\n",
    "\n",
    "pre_Order(graph)"
   ]
  },
  {
   "cell_type": "code",
   "execution_count": 3,
   "id": "df8849a3",
   "metadata": {},
   "outputs": [
    {
     "data": {
      "text/plain": [
       "[3, 4, 1, 5, 2, 0]"
      ]
     },
     "execution_count": 3,
     "metadata": {},
     "output_type": "execute_result"
    }
   ],
   "source": [
    "def post_Order(graph):\n",
    "    visited_nodes = []\n",
    "    queue = [0]\n",
    "    ended_nods = {num: False for num in range(len(graph))}\n",
    "    while queue != []:\n",
    "        node = queue[0]\n",
    "        for nodes in graph.keys():\n",
    "            c = 0\n",
    "            for els in graph[nodes]:\n",
    "                if els in visited_nodes:\n",
    "                    c += 1\n",
    "            if c == len(graph[nodes]):\n",
    "                ended_nods[nodes] = True\n",
    "        if node not in visited_nodes and graph[node] == [] or ended_nods[node]:\n",
    "            visited_nodes.append(node)\n",
    "            queue.remove(node)\n",
    "        for close_node in reversed(graph[node]):\n",
    "            if close_node not in visited_nodes:\n",
    "                queue.insert(0, close_node)\n",
    "    return visited_nodes\n",
    "\n",
    "post_Order(graph)"
   ]
  },
  {
   "cell_type": "code",
   "execution_count": 7,
   "id": "6c9d5b05",
   "metadata": {},
   "outputs": [
    {
     "data": {
      "text/plain": [
       "[5, 2, 4, 3, 1, 0]"
      ]
     },
     "execution_count": 7,
     "metadata": {},
     "output_type": "execute_result"
    }
   ],
   "source": [
    "def in_Order(graph):\n",
    "    visited_nodes = []\n",
    "    queue = [0]\n",
    "    while queue != []:\n",
    "        node = queue.pop(0)\n",
    "        if node not in visited_nodes:\n",
    "            visited_nodes.append(node)\n",
    "            for close_node in reversed(graph[node]):\n",
    "                if close_node not in visited_nodes:\n",
    "                    queue.insert(0, close_node)\n",
    "    return list(reversed(visited_nodes))\n",
    "\n",
    "in_Order(graph)"
   ]
  },
  {
   "cell_type": "code",
   "execution_count": 5,
   "id": "de895b6e",
   "metadata": {},
   "outputs": [
    {
     "data": {
      "text/plain": [
       "[0, 1, 2, 3, 4, 5]"
      ]
     },
     "execution_count": 5,
     "metadata": {},
     "output_type": "execute_result"
    }
   ],
   "source": [
    "def level_order_traversal(graph):\n",
    "    visited_nodes = [0]\n",
    "    index = 0\n",
    "    while index != len(visited_nodes):\n",
    "        for el in range(len(graph[visited_nodes[index]])):\n",
    "            visited_nodes.append(graph[visited_nodes[index]][el])\n",
    "        index += 1\n",
    "    return visited_nodes\n",
    "\n",
    "level_order_traversal(graph)"
   ]
  },
  {
   "cell_type": "code",
   "execution_count": null,
   "id": "6d91e911",
   "metadata": {},
   "outputs": [],
   "source": []
  }
 ],
 "metadata": {
  "kernelspec": {
   "display_name": "Python 3 (ipykernel)",
   "language": "python",
   "name": "python3"
  },
  "language_info": {
   "codemirror_mode": {
    "name": "ipython",
    "version": 3
   },
   "file_extension": ".py",
   "mimetype": "text/x-python",
   "name": "python",
   "nbconvert_exporter": "python",
   "pygments_lexer": "ipython3",
   "version": "3.9.12"
  }
 },
 "nbformat": 4,
 "nbformat_minor": 5
}
